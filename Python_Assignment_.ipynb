{
  "nbformat": 4,
  "nbformat_minor": 0,
  "metadata": {
    "colab": {
      "provenance": []
    },
    "kernelspec": {
      "name": "python3",
      "display_name": "Python 3"
    },
    "language_info": {
      "name": "python"
    }
  },
  "cells": [
    {
      "cell_type": "code",
      "execution_count": null,
      "metadata": {
        "id": "2V3HrlWG0Glg"
      },
      "outputs": [],
      "source": []
    },
    {
      "cell_type": "markdown",
      "source": [
        "**1- Explain the key features of Python that make it a popular choice for programming?**\n",
        "\n",
        "**Ans-** Python is popular because it's easy to learn and use, making it great for beginners. Its simple, readable syntax helps developers write clear code quickly. Python is versatile and can be used for web development, data analysis, automation, and more.\n",
        "\n",
        "It has a large community that provides support and shares resources, making it easier to find help when needed. Python also has many libraries and frameworks that simplify complex tasks, saving time and effort.\n",
        "\n",
        "Additionally, Python is open-source and free to use, which encourages widespread adoption. Its cross-platform compatibility ensures it works on various operating systems, enhancing its accessibility.\n",
        "\n",
        "Overall, Python's simplicity, versatility, strong community support, and open-source nature contribute to its popularity among developers worldwide.\n"
      ],
      "metadata": {
        "id": "mSN_VQ1J0SWK"
      }
    },
    {
      "cell_type": "markdown",
      "source": [
        "**2 - Describe the role of predefined keywords in Python and provide examples of how they are used in a program?**\n",
        "\n",
        "**Ans-** In Python, predefined keywords are special reserved words that have specific meanings and purposes. These keywords cannot be used as variable names, function names, or any other identifiers. They are fundamental to the structure and syntax of the language\n",
        "\n"
      ],
      "metadata": {
        "id": "alZkLQOP1K8j"
      }
    },
    {
      "cell_type": "markdown",
      "source": [
        "**Example-**"
      ],
      "metadata": {
        "id": "eRoycnUu2BJQ"
      }
    },
    {
      "cell_type": "code",
      "source": [
        "x=10\n",
        "if x>0:\n",
        "  print(\"positive\")\n",
        "else:\n",
        "  print(\"negative\")"
      ],
      "metadata": {
        "colab": {
          "base_uri": "https://localhost:8080/"
        },
        "id": "hBNgouva1sjC",
        "outputId": "a2951aa1-216f-4b5d-d0e2-05f53839c2eb"
      },
      "execution_count": 3,
      "outputs": [
        {
          "output_type": "stream",
          "name": "stdout",
          "text": [
            "positive\n"
          ]
        }
      ]
    },
    {
      "cell_type": "markdown",
      "source": [
        "**3- Compare and contrast mutable and immutable objects in Python with examples?**\n",
        "\n",
        "**Ans-** In Python, mutable and immutable objects are two fundamental concepts related to whether or not an object's value can be changed after it's created.\n",
        "\n",
        "**Mutable Objects**\n",
        "\n",
        "Mutable objects can be changed after they are created. If you modify a mutable object, the object itself is updated in place.\n",
        "\n",
        "**Examples of mutable objects:**\n"
      ],
      "metadata": {
        "id": "m025UA4l2ImC"
      }
    },
    {
      "cell_type": "code",
      "source": [
        "Lists (list)\n",
        "Dictionaries (dict)\n",
        "Sets (set)"
      ],
      "metadata": {
        "id": "9moaxbiz2v8G"
      },
      "execution_count": null,
      "outputs": []
    },
    {
      "cell_type": "markdown",
      "source": [
        "**Immutable Objects**\n",
        "\n",
        "Immutable objects cannot be changed once they are created. Any change results in a new object being created.\n",
        "\n",
        "**Examples of immutable objects:**\n"
      ],
      "metadata": {
        "id": "DAM-KjB73Da-"
      }
    },
    {
      "cell_type": "code",
      "source": [
        "Integers (int)\n",
        "Floats (float)\n",
        "Strings (str)"
      ],
      "metadata": {
        "id": "epz81gKG3N0u"
      },
      "execution_count": null,
      "outputs": []
    },
    {
      "cell_type": "markdown",
      "source": [
        "**Differecnes**\n",
        "\n",
        "1.  Mutable objects can be changed but immutable cant be changed.\n",
        "2.  Mutable objets are fixed in memory after changes but immutable objects creates new creation after modification.\n",
        "\n"
      ],
      "metadata": {
        "id": "FQOLgp8n3cD6"
      }
    },
    {
      "cell_type": "markdown",
      "source": [
        "**4- Discuss the different types of operators in Python and provide examples of how they are used.**\n",
        "\n",
        "**Ans-** - Different types of operators in Python—these are special symbols or words that let you do things like math, comparisons, or logic.\n",
        "\n",
        "\n",
        "a)   **Arithmetic Operators**\n",
        "      These are used to do math, like adding or multiplying numbers.\n",
        "      Example:\n",
        ""
      ],
      "metadata": {
        "id": "EX6pCZ2U4I2Q"
      }
    },
    {
      "cell_type": "code",
      "source": [
        "a=10\n",
        "b=3\n",
        "print(a+b)\n",
        "print(a//b)"
      ],
      "metadata": {
        "colab": {
          "base_uri": "https://localhost:8080/"
        },
        "id": "BNm5RHXj5n9G",
        "outputId": "e5e7ae77-0843-42cf-96b5-2bc1607bbf1a"
      },
      "execution_count": 4,
      "outputs": [
        {
          "output_type": "stream",
          "name": "stdout",
          "text": [
            "13\n",
            "3\n"
          ]
        }
      ]
    },
    {
      "cell_type": "markdown",
      "source": [
        "b)   **Comparison Operators**\n",
        "\n",
        "      These are used to compare values, and they return True or False.\n",
        "\n",
        "      Example"
      ],
      "metadata": {
        "id": "_NwNewc257i-"
      }
    },
    {
      "cell_type": "code",
      "source": [
        "x = 7\n",
        "y = 5\n",
        "print(x > y)  # True\n",
        "print(x == y) # False"
      ],
      "metadata": {
        "colab": {
          "base_uri": "https://localhost:8080/"
        },
        "id": "JnlrGI2V6Axf",
        "outputId": "21af667f-f8e8-4d3d-e9c0-af5353a7ff1b"
      },
      "execution_count": 5,
      "outputs": [
        {
          "output_type": "stream",
          "name": "stdout",
          "text": [
            "True\n",
            "False\n"
          ]
        }
      ]
    },
    {
      "cell_type": "markdown",
      "source": [
        "C) **Assignment Operators**\n",
        "These operator used to assign values to variables.\n",
        "\n",
        "Example\n"
      ],
      "metadata": {
        "id": "S0jItKXf6NEd"
      }
    },
    {
      "cell_type": "code",
      "source": [
        "x = 5\n",
        "x += 2\n",
        "print(x)  # 7"
      ],
      "metadata": {
        "colab": {
          "base_uri": "https://localhost:8080/"
        },
        "id": "od2legQm8-aA",
        "outputId": "5bcb8195-871c-45ae-d774-4c4b2e357e78"
      },
      "execution_count": 6,
      "outputs": [
        {
          "output_type": "stream",
          "name": "stdout",
          "text": [
            "7\n"
          ]
        }
      ]
    },
    {
      "cell_type": "markdown",
      "source": [
        "d) **Logical Operators**\n",
        "\n",
        "Used to combine conditional statements.\n",
        "\n",
        "Example"
      ],
      "metadata": {
        "id": "liGGMvF39KGC"
      }
    },
    {
      "cell_type": "code",
      "source": [
        "x = 7\n",
        "print(x > 5 and x < 10)  # True\n",
        "print(not x == 7)        # False"
      ],
      "metadata": {
        "colab": {
          "base_uri": "https://localhost:8080/"
        },
        "id": "bKqVwZ2T9SBy",
        "outputId": "ac2ca8ca-01c9-4823-cac0-9266456abc09"
      },
      "execution_count": 7,
      "outputs": [
        {
          "output_type": "stream",
          "name": "stdout",
          "text": [
            "True\n",
            "False\n"
          ]
        }
      ]
    },
    {
      "cell_type": "markdown",
      "source": [
        "**5- Explain the concept of type casting in Python with examples**\n",
        "\n",
        "**Ans-** Type casting in Python refers to converting one data type into another. Python provides built-in functions to perform this operation.\n",
        "\n",
        "There are two types of type casting in Python:\n",
        "\n",
        "\n",
        "1.   Implicit Type Casting\n",
        "2.   Explicit Type Casting\n",
        "\n",
        "**Implicit Type Casting** -\n",
        "When Python automatically converts one data type to another without user intervention.\n"
      ],
      "metadata": {
        "id": "WkSSqR299Yt1"
      }
    },
    {
      "cell_type": "code",
      "source": [
        "a = 15      # int\n",
        "b = 17.5    # float\n",
        "c = a + b   # result is automatically a float\n",
        "print(c)    # Output: 32.5\n",
        "print(type(c))  # Output: <class 'float'>\n",
        "\n",
        "\"Explanation: a is an integer, b is a float. Python implicitly converts a to float before the addition, resulting in a float.\""
      ],
      "metadata": {
        "colab": {
          "base_uri": "https://localhost:8080/",
          "height": 70
        },
        "id": "Zj2-PyiN-MDX",
        "outputId": "2fd9df92-b0d5-4165-f98f-c01bdf300bf8"
      },
      "execution_count": 9,
      "outputs": [
        {
          "output_type": "stream",
          "name": "stdout",
          "text": [
            "32.5\n",
            "<class 'float'>\n"
          ]
        },
        {
          "output_type": "execute_result",
          "data": {
            "text/plain": [
              "'Explanation: a is an integer, b is a float. Python implicitly converts a to float before the addition, resulting in a float.'"
            ],
            "application/vnd.google.colaboratory.intrinsic+json": {
              "type": "string"
            }
          },
          "metadata": {},
          "execution_count": 9
        }
      ]
    },
    {
      "cell_type": "markdown",
      "source": [
        "**Explicit Type Casting**\n",
        "This involves manually converting a variable to a specific data type using built-in functions like"
      ],
      "metadata": {
        "id": "6-lvfU1ZChz7"
      }
    },
    {
      "cell_type": "code",
      "source": [
        "  num_str = \"15\"\n",
        "  num_int = int(num_str)\n",
        "  print(num_int)  # Output: 15\n",
        "  print(type(num_int))  # Output: <class 'int'>\n",
        "  \"String to Integer\""
      ],
      "metadata": {
        "colab": {
          "base_uri": "https://localhost:8080/",
          "height": 70
        },
        "id": "RgmTeTOqCzpE",
        "outputId": "b8328179-d2c4-480f-8959-a62947a40c35"
      },
      "execution_count": 13,
      "outputs": [
        {
          "output_type": "stream",
          "name": "stdout",
          "text": [
            "15\n",
            "<class 'int'>\n"
          ]
        },
        {
          "output_type": "execute_result",
          "data": {
            "text/plain": [
              "'String to Integer'"
            ],
            "application/vnd.google.colaboratory.intrinsic+json": {
              "type": "string"
            }
          },
          "metadata": {},
          "execution_count": 13
        }
      ]
    },
    {
      "cell_type": "code",
      "source": [
        "  num_float = 5.9\n",
        "  num_int = int(num_float)\n",
        "  print(num_int)  # Output: 5\n",
        "  print(type(num_int))  # Output: <class 'int'>\n",
        "\"Float to Integer\""
      ],
      "metadata": {
        "colab": {
          "base_uri": "https://localhost:8080/",
          "height": 70
        },
        "id": "Rb0AOQgBHTKl",
        "outputId": "ec0b4d5d-a5ca-4772-ecf6-b38bc9c72a70"
      },
      "execution_count": 17,
      "outputs": [
        {
          "output_type": "stream",
          "name": "stdout",
          "text": [
            "5\n",
            "<class 'int'>\n"
          ]
        },
        {
          "output_type": "execute_result",
          "data": {
            "text/plain": [
              "'Float to Integer'"
            ],
            "application/vnd.google.colaboratory.intrinsic+json": {
              "type": "string"
            }
          },
          "metadata": {},
          "execution_count": 17
        }
      ]
    },
    {
      "cell_type": "code",
      "source": [
        "  num = 25\n",
        "  num_str = str(num)\n",
        "  print(num_str)  # Output: '25'\n",
        "  print(type(num_str))  # Output: <class 'str'>\n",
        "  \"Integer to String\""
      ],
      "metadata": {
        "colab": {
          "base_uri": "https://localhost:8080/",
          "height": 70
        },
        "id": "XEyshTJiHAh-",
        "outputId": "36d5ad6b-789c-4792-e521-494c6497a6e7"
      },
      "execution_count": 19,
      "outputs": [
        {
          "output_type": "stream",
          "name": "stdout",
          "text": [
            "25\n",
            "<class 'str'>\n"
          ]
        },
        {
          "output_type": "execute_result",
          "data": {
            "text/plain": [
              "'Integer to String'"
            ],
            "application/vnd.google.colaboratory.intrinsic+json": {
              "type": "string"
            }
          },
          "metadata": {},
          "execution_count": 19
        }
      ]
    },
    {
      "cell_type": "markdown",
      "source": [
        "**6-How do conditional statements work in Python? Illustrate with examples?**\n",
        "\n",
        "**Ans-** ​Conditional statements in Python allow you to execute specific blocks of code based on whether a condition is true or false. This is fundamental for decision-making in programming."
      ],
      "metadata": {
        "id": "JPgl-lVLHyc0"
      }
    },
    {
      "cell_type": "code",
      "source": [
        "x = 10\n",
        "if x > 5:\n",
        "    print(\"x is greater than 5\")\n",
        "\"The if statement evaluates a condition and executes the associated block of code if the condition is true .\"\n"
      ],
      "metadata": {
        "colab": {
          "base_uri": "https://localhost:8080/",
          "height": 53
        },
        "id": "VeApWEu0ILDb",
        "outputId": "b75ce4b0-1537-4617-dd61-97f35a70e617"
      },
      "execution_count": 26,
      "outputs": [
        {
          "output_type": "stream",
          "name": "stdout",
          "text": [
            "x is greater than 5\n"
          ]
        },
        {
          "output_type": "execute_result",
          "data": {
            "text/plain": [
              "'The if statement evaluates a condition and executes the associated block of code if the condition is true .'"
            ],
            "application/vnd.google.colaboratory.intrinsic+json": {
              "type": "string"
            }
          },
          "metadata": {},
          "execution_count": 26
        }
      ]
    },
    {
      "cell_type": "code",
      "source": [
        "x = 3\n",
        "if x > 5:\n",
        "    print(\"x is greater than 5\")\n",
        "else:\n",
        "    print(\"x is not greater than 5\")\n",
        "\"Here, since x is not greater than 5, the else block is executed\""
      ],
      "metadata": {
        "colab": {
          "base_uri": "https://localhost:8080/",
          "height": 53
        },
        "id": "y7JAw-P5Ihuz",
        "outputId": "a5c77ee6-2ec7-4f2e-c829-465c4efcd3ce"
      },
      "execution_count": 27,
      "outputs": [
        {
          "output_type": "stream",
          "name": "stdout",
          "text": [
            "x is not greater than 5\n"
          ]
        },
        {
          "output_type": "execute_result",
          "data": {
            "text/plain": [
              "'Here, since x is not greater than 5, the else block is executed'"
            ],
            "application/vnd.google.colaboratory.intrinsic+json": {
              "type": "string"
            }
          },
          "metadata": {},
          "execution_count": 27
        }
      ]
    },
    {
      "cell_type": "code",
      "source": [
        "x = 15\n",
        "if x > 20:\n",
        "    print(\"x is greater than 20\")\n",
        "elif x > 10:\n",
        "    print(\"x is greater than 10 but less than or equal to 20\")\n",
        "else:\n",
        "    print(\"x is 10 or less\")\n",
        "\"In this case, x satisfies the second condition, so the corresponding message is printed.\""
      ],
      "metadata": {
        "colab": {
          "base_uri": "https://localhost:8080/",
          "height": 53
        },
        "id": "haQr2DgGJG-s",
        "outputId": "c6bb7a46-1db9-430d-cba5-2a14beb83516"
      },
      "execution_count": 28,
      "outputs": [
        {
          "output_type": "stream",
          "name": "stdout",
          "text": [
            "x is greater than 10 but less than or equal to 20\n"
          ]
        },
        {
          "output_type": "execute_result",
          "data": {
            "text/plain": [
              "'In this case, x satisfies the second condition, so the corresponding message is printed.'"
            ],
            "application/vnd.google.colaboratory.intrinsic+json": {
              "type": "string"
            }
          },
          "metadata": {},
          "execution_count": 28
        }
      ]
    },
    {
      "cell_type": "markdown",
      "source": [
        "**7- Describe the different types of loops in Python and their use cases with examples.**\n",
        "\n",
        "**Ans-** A loop is a way to repeat a block of code multiple times. Python supports iteration through sequences (like lists, strings, dictionaries, etc.) and can also repeat actions while a condition holds true.\n",
        "\n",
        "Use of Loops\n",
        "\n",
        "\n",
        "1.   Automate repetitive tasks\n",
        "2.   Work with items in a collection (like lists or dictionaries)\n",
        "3.   Perform actions until a condition is met\n",
        "\n",
        "Types of Loops.\n",
        "\n",
        "\n",
        "1.   for Loop\n",
        "2.   while Loop\n",
        "3.   nested Loop\n"
      ],
      "metadata": {
        "id": "GhssipgxJRNT"
      }
    },
    {
      "cell_type": "markdown",
      "source": [
        "**for Loop uses**\n",
        "\n",
        "Looping through items in a list\n",
        "\n",
        "Iterating over a range of numbers\n",
        "\n",
        "Reading characters from a string\n",
        "\n",
        "Working with dictionaries"
      ],
      "metadata": {
        "id": "6WPU6hPvLSxe"
      }
    },
    {
      "cell_type": "code",
      "source": [],
      "metadata": {
        "id": "zKWDnmZ0J5Oj"
      },
      "execution_count": null,
      "outputs": []
    },
    {
      "cell_type": "code",
      "source": [
        "# List 1\n",
        "Places = ['Mumbai', 'Chennai', 'Bengalore']\n",
        "for Places in Places:\n",
        "    print(Places)\n",
        "\n",
        "# Loop using range\n",
        "for i in range(3):\n",
        "    print(i)  # Outputs: 0 1 2\n",
        "\n",
        "# Loop through a dictionary\n",
        "person = {'name': 'Jaseem', 'age': 35}\n",
        "for key, value in person.items():\n",
        "    print(key, value)"
      ],
      "metadata": {
        "colab": {
          "base_uri": "https://localhost:8080/"
        },
        "id": "dW8WQl8lKXdK",
        "outputId": "2577af65-9008-4374-84d2-d36df7e2985f"
      },
      "execution_count": 36,
      "outputs": [
        {
          "output_type": "stream",
          "name": "stdout",
          "text": [
            "Mumbai\n",
            "Chennai\n",
            "Bengalore\n",
            "0\n",
            "1\n",
            "2\n",
            "name Jaseem\n",
            "age 35\n"
          ]
        }
      ]
    },
    {
      "cell_type": "markdown",
      "source": [],
      "metadata": {
        "id": "ZuhLLUIkLRNb"
      }
    },
    {
      "cell_type": "markdown",
      "source": [
        "**while Loop uses**\n",
        "\n",
        "Running code until a condition changes\n",
        "\n",
        "Creating infinite loops (with a break condition)\n",
        "\n",
        "Waiting for user input or external event"
      ],
      "metadata": {
        "id": "PfBqwjOoLepk"
      }
    },
    {
      "cell_type": "code",
      "source": [
        "counter = 0\n",
        "while counter < 5:\n",
        "    print(\"Counter is:\", counter)\n",
        "    counter += 1\n",
        "\n",
        "# Example with break\n",
        "while True:\n",
        "    response = input(\"Type 'back' to quit: \")\n",
        "    if response == 'exit':\n",
        "        break"
      ],
      "metadata": {
        "colab": {
          "base_uri": "https://localhost:8080/"
        },
        "id": "9FcrWihdNedy",
        "outputId": "0ccf218c-b8c8-4063-ec05-612a808574db"
      },
      "execution_count": null,
      "outputs": [
        {
          "output_type": "stream",
          "name": "stdout",
          "text": [
            "Counter is: 0\n",
            "Counter is: 1\n",
            "Counter is: 2\n",
            "Counter is: 3\n",
            "Counter is: 4\n"
          ]
        }
      ]
    },
    {
      "cell_type": "markdown",
      "source": [
        "**nested Loop uses**\n",
        "\n",
        "2D arrays\n",
        "\n",
        "Multiplication tables\n",
        "\n",
        "Complex data structures"
      ],
      "metadata": {
        "id": "V6Qmld_cMBI1"
      }
    },
    {
      "cell_type": "code",
      "source": [
        "for i in range(1, 4):\n",
        "    for j in range(1, 4):\n",
        "        print(f\"{i} x {j} = {i*j}\")\n",
        "    print(\"---\")\n"
      ],
      "metadata": {
        "colab": {
          "base_uri": "https://localhost:8080/"
        },
        "id": "Q6_Q-eNpMKVi",
        "outputId": "b27eb17d-9b68-4a78-c112-c15ae1a4c7c6"
      },
      "execution_count": 39,
      "outputs": [
        {
          "output_type": "stream",
          "name": "stdout",
          "text": [
            "1 x 1 = 1\n",
            "1 x 2 = 2\n",
            "1 x 3 = 3\n",
            "---\n",
            "2 x 1 = 2\n",
            "2 x 2 = 4\n",
            "2 x 3 = 6\n",
            "---\n",
            "3 x 1 = 3\n",
            "3 x 2 = 6\n",
            "3 x 3 = 9\n",
            "---\n"
          ]
        }
      ]
    }
  ]
}