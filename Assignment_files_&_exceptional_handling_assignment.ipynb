{
  "nbformat": 4,
  "nbformat_minor": 0,
  "metadata": {
    "colab": {
      "provenance": []
    },
    "kernelspec": {
      "name": "python3",
      "display_name": "Python 3"
    },
    "language_info": {
      "name": "python"
    }
  },
  "cells": [
    {
      "cell_type": "code",
      "execution_count": null,
      "metadata": {
        "id": "8Qe-fSivl6nA"
      },
      "outputs": [],
      "source": []
    },
    {
      "cell_type": "markdown",
      "source": [
        "**1. What is the difference between interpreted and compiled languages?**\n",
        "\n",
        "Ans-\n",
        "*   Interpreted languages run the code line by line (like Python).\n",
        "*   Compiled languages turn the whole code into machine language before running (like C++).\n",
        "\n",
        "\n",
        "**2.What is exception handling in Python?**\n",
        "\n",
        "Ans- It's a way to handle errors in a program so that it doesn't crash and can respond properly.\n",
        "\n",
        "**3. What is the purpose of the finally block in exception handling?**\n",
        "\n",
        "Ans- The purpose of finally block runs code no matter what—whether there’s an error or not. It’s used for cleanup (like closing files).\n",
        "\n",
        "**4. What is logging in Python?**\n",
        "\n",
        "Ans- Logging means recording messages or errors while a program runs to help with debugging or tracking its activity.\n",
        "\n",
        "**5. What is the significance of the __del__ method in Python?**\n",
        "\n",
        "Ans- Significance of __del__ Method: It’s a special method that runs when an object is about to be deleted. It’s used to clean up resources.\n",
        "\n",
        "**6. What is the difference between import and from... import in Python?**\n",
        "\n",
        "Ans- import vs from...import:\n",
        "\n",
        "*  import module brings in the whole module.\n",
        "*  from module import part brings in only a specific part (like a function or class)\n",
        "\n",
        "**7. How can you handle multiple exceptions in Python?**\n",
        "\n",
        "Ans- Handling Multiple Exceptions can use multiple except blocks or use a single block with a tuple of exceptions.\n",
        "\n",
        "**8. What is the purpose of the with statement when handling files in Python?**\n",
        "\n",
        "Ans- Purpose of with Statement: It automatically opens and closes a file safely, even if an error happens.\n",
        "\n",
        "**9. What is the difference between multithreading and multiprocessing?**\n",
        "\n",
        "Ans-\n",
        "*   Multithreading runs multiple threads (lightweight tasks) in one process.\n",
        "\n",
        "*   Multiprocessing runs multiple processes (independent tasks), using more CPU cores.\n",
        "\n",
        "**10. What are the advantages of using logging in a program?**\n",
        "\n",
        "Ans- Advantages of Logging helps track what the program is doing, makes it easier to find bugs, and records problems for later review.\n",
        "\n",
        "**11. What is memory management in Python?**\n",
        "\n",
        "Ans- Memory Management in Python handles memory for you by allocating and freeing memory when needed using a system called garbage collection.\n",
        "\n",
        "**12. What are the basic steps involved in exception handling in Python?**\n",
        "\n",
        "Ans- Steps in Exception Handling:\n",
        "*   Use try to run code that may fail.\n",
        "*   Use except to catch errors.\n",
        "*   Optionally use else if no error happens.\n",
        "*   Use finally to clean up afterward.\n",
        "\n",
        "**13. Why is memory management important in Python?**\n",
        "\n",
        "Ans- Importance of Memory Management it prevents programs from using too much memory and crashing. It also ensures unused memory is freed.\n",
        "\n",
        "**14. What is the role of try and except in exception handling?**\n",
        "\n",
        "Ans- Role of try and except:\n",
        "\n",
        "try runs code that might cause an error.\n",
        "\n",
        "except handles the error if it happens.\n",
        "\n",
        "**15. How does Python's garbage collection system work?**\n",
        "\n",
        "Ans- Python Garbage Collection python automatically removes objects no longer in use, freeing up memory.\n",
        "\n",
        "**16. What is the purpose of the else block in exception handling?**\n",
        "\n",
        "Ans- Purpose of else in Exception Handling it runs code only if no exception happened in the try block.\n",
        "\n",
        "\n",
        "**17. What are the common logging levels in Python?**\n",
        "\n",
        "Ans- Common Logging Levels:\n",
        "\n",
        "DEBUG\n",
        "\n",
        "INFO\n",
        "\n",
        "WARNING\n",
        "\n",
        "ERROR\n",
        "\n",
        "CRITICAL\n",
        "\n",
        "**18. What is the difference between os.fork() and multiprocessing in Python?**\n",
        "\n",
        "Ans- os.fork() vs Multiprocessing:\n",
        "os.fork() creates a new process (works on Unix only).\n",
        "The multiprocessing module works on all platforms and is easier to use.\n",
        "\n",
        "**19. What is the importance of closing a file in Python?**\n",
        "\n",
        "Ans- Importance of Closing a File: It saves changes and frees system resources. Not closing can lead to data loss.\n",
        "\n",
        "**20. What is the difference between file.read() and file.readline() in Python?**\n",
        "\n",
        "Ans- file.read() vs file.readline():\n",
        "\n",
        "read() reads the whole file at once.\n",
        "\n",
        "readline() reads one line at a time.\n",
        "\n",
        "**21. What is the logging module in Python used for?**\n",
        "\n",
        "Ans- Logging Module Use: It helps you track events, errors, or debug messages while the program runs.\n",
        "\n",
        "**22. What is the os module in Python used for in file handling?**\n",
        "\n",
        "Ans- Use of os Module in File Handling: It helps you work with the file system—like creating, deleting, or checking files and folders.\n",
        "\n",
        "**23. What are the challenges associated with memory management in Python?**\n",
        "\n",
        "Ans- Challenges in Memory Management: Includes memory leaks, keeping unused objects, and managing large data efficiently.\n",
        "\n",
        "**24. How do you raise an exception manually in Python?**\n",
        "\n",
        "Ans- Manually Raising Exceptions: Use raise with an exception type, like: raise ValueError(\"Invalid value\").\n",
        "\n",
        "**25. Why is it important to use multithreading in certain applications?**\n",
        "\n",
        "Ans- Importance of Multithreading: It helps run tasks at the same time (like downloading and processing data) to make programs faster and smoother.\n"
      ],
      "metadata": {
        "id": "sHu25lRZmNy5"
      }
    },
    {
      "cell_type": "code",
      "source": [
        "\" 1. How can you open a file for writing in Python and write a string to it?\"\n",
        "\n",
        "\"Ans- # Open 'jaseem.txt' for writing and write a string to it\"\n",
        "with open('jaseem.txt', 'w') as file:\n",
        "    file.write(\"Hello, world!\")"
      ],
      "metadata": {
        "id": "s_5HMDxBugsX"
      },
      "execution_count": null,
      "outputs": []
    },
    {
      "cell_type": "code",
      "source": [
        "## 2. Write a Python program to read the contents of a file and print each line.\n",
        "#Ans-\n",
        "with open('jaseem.txt', 'r') as file:\n",
        "    for line in file:\n",
        "        print(line)"
      ],
      "metadata": {
        "colab": {
          "base_uri": "https://localhost:8080/"
        },
        "id": "RaFYaFy9wiqH",
        "outputId": "05e81a1a-9924-4c14-f07c-99c964f450e0"
      },
      "execution_count": null,
      "outputs": [
        {
          "output_type": "stream",
          "name": "stdout",
          "text": [
            "Hello, world!\n"
          ]
        }
      ]
    },
    {
      "cell_type": "code",
      "source": [
        "# 3. How would you handle a case where the file doesn't exist while trying to open it for reading?\n",
        "\n",
        "\"Ans\"\n",
        "# Attempt to open a file named 'jaseem.txt' in read mode\n",
        "try:\n",
        "    with open('jaseem.txt', 'r') as file:\n",
        "        # If the file exists, read its contents\n",
        "        content = file.read()\n",
        "        print(\"File content:\")\n",
        "        print(content)\n",
        "\n",
        "# Handle the case where the file does not exist\n",
        "except FileNotFoundError:\n",
        "    print(\"Error: The file 'jaseem.txt' does not exist.\")\n",
        "\n",
        "# Optional: handle other I/O errors\n",
        "except IOError as e:\n",
        "    print(f\"An I/O error occurred: {e}\")"
      ],
      "metadata": {
        "colab": {
          "base_uri": "https://localhost:8080/"
        },
        "id": "TOpm5w8Vzk7L",
        "outputId": "1e5e7511-55a8-4d19-d5cf-12d8779de952"
      },
      "execution_count": null,
      "outputs": [
        {
          "output_type": "stream",
          "name": "stdout",
          "text": [
            "Error: The file 'jaseem.txt' does not exist.\n"
          ]
        }
      ]
    },
    {
      "cell_type": "code",
      "source": [
        "#4. Write a Python script that reads from one file and writes its content to another file.\n",
        "\"Ans\"\n",
        "# Define source and destination file paths\n",
        "source_file = 'source.txt'\n",
        "destination_file = 'destination.txt'\n",
        "\n",
        "try:\n",
        "    # Open the source file in read mode\n",
        "    with open(source_file, 'r') as src:\n",
        "        content = src.read()\n",
        "\n",
        "    # Open the destination file in write mode and write content\n",
        "    with open(destination_file, 'w') as dest:\n",
        "        dest.write(content)\n",
        "\n",
        "    print(f\"Content successfully copied from '{source_file}' to '{destination_file}'.\")\n",
        "\n",
        "except FileNotFoundError:\n",
        "    print(f\"Error: The file '{source_file}' does not exist.\")\n",
        "except Exception as e:\n",
        "    print(f\"An error occurred: {e}\")\n"
      ],
      "metadata": {
        "colab": {
          "base_uri": "https://localhost:8080/"
        },
        "id": "cLhMje-qQ9GY",
        "outputId": "bf191fe0-d0b7-4c45-eae3-7657b2aa25c8"
      },
      "execution_count": null,
      "outputs": [
        {
          "output_type": "stream",
          "name": "stdout",
          "text": [
            "Error: The file 'source.txt' does not exist.\n"
          ]
        }
      ]
    },
    {
      "cell_type": "code",
      "source": [
        "#5. How would you catch and handle division by zero error in Python?\n",
        "\n",
        "\"Ans\"\n",
        "try:\n",
        "    result = 10 / 0\n",
        "except ZeroDivisionError:\n",
        "    print(\"Error: Cannot divide by zero.\")\n",
        "else:\n",
        "    print(\"Result:\", result)\n",
        "finally:\n",
        "    print(\"Execution completed.\")"
      ],
      "metadata": {
        "colab": {
          "base_uri": "https://localhost:8080/"
        },
        "id": "V6xQ6CyyRU90",
        "outputId": "aa791512-c719-4369-9df1-bf7a1af5a305"
      },
      "execution_count": null,
      "outputs": [
        {
          "output_type": "stream",
          "name": "stdout",
          "text": [
            "Error: Cannot divide by zero.\n",
            "Execution completed.\n"
          ]
        }
      ]
    },
    {
      "cell_type": "code",
      "source": [
        "#6. Write a Python program that logs an error message to a log file when a division by zero exception occurs.\n",
        "\n",
        "\"Ans\"\n",
        "import logging\n",
        "\n",
        "# Configure logging\n",
        "logging.basicConfig(filename='error.log', level=logging.ERROR,\n",
        "                    format='%(asctime)s - %(levelname)s - %(message)s')\n",
        "\n",
        "def divide(a, b):\n",
        "    try:\n",
        "        result = a / b\n",
        "        print(\"Result:\", result)\n",
        "    except ZeroDivisionError as e:\n",
        "        logging.error(\"Attempted to divide by zero. a=%s, b=%s\", a, b)\n",
        "        print(\"An error occurred. Check the log file for details.\")\n",
        "\n",
        "# Example usage\n",
        "num1 = 10\n",
        "num2 = 0\n",
        "\n",
        "divide(num1, num2)"
      ],
      "metadata": {
        "colab": {
          "base_uri": "https://localhost:8080/"
        },
        "id": "MaKDn4LKRzmf",
        "outputId": "467c44cd-d64f-4c71-9b98-83222ed6e018"
      },
      "execution_count": null,
      "outputs": [
        {
          "output_type": "stream",
          "name": "stderr",
          "text": [
            "ERROR:root:Attempted to divide by zero. a=10, b=0\n"
          ]
        },
        {
          "output_type": "stream",
          "name": "stdout",
          "text": [
            "An error occurred. Check the log file for details.\n"
          ]
        }
      ]
    },
    {
      "cell_type": "code",
      "source": [
        "#7. How do you log information at different levels (INFO, ERROR, WARNING) in Python using the logging module?\n",
        "\n",
        "\"Ans\"\n",
        "import logging\n",
        "\n",
        "# Basic configuration for the logging system\n",
        "logging.basicConfig(\n",
        "    level=logging.DEBUG,  # Set the minimum level of messages to handle\n",
        "    format='%(asctime)s - %(levelname)s - %(message)s',\n",
        ")\n",
        "\n",
        "# Logging at different levels\n",
        "logging.debug(\"This is a DEBUG message (for detailed diagnostic information).\")\n",
        "logging.info(\"This is an INFO message (for general information).\")\n",
        "logging.warning(\"This is a WARNING message (something unexpected or nearing error).\")\n",
        "logging.error(\"This is an ERROR message (a failure that occurred).\")\n",
        "logging.critical(\"This is a CRITICAL message (a serious error).\")"
      ],
      "metadata": {
        "colab": {
          "base_uri": "https://localhost:8080/"
        },
        "id": "XMJ1BK80SPvs",
        "outputId": "cad89f68-c8aa-46e1-cfcc-672c4ff0b4e4"
      },
      "execution_count": null,
      "outputs": [
        {
          "output_type": "stream",
          "name": "stderr",
          "text": [
            "WARNING:root:This is a WARNING message (something unexpected or nearing error).\n",
            "ERROR:root:This is an ERROR message (a failure that occurred).\n",
            "CRITICAL:root:This is a CRITICAL message (a serious error).\n"
          ]
        }
      ]
    },
    {
      "cell_type": "code",
      "source": [
        "#8. Write a program to handle a file opening error using exception handling.\n",
        "\n",
        "\"Ans\"\n",
        "def open_file():\n",
        "    try:\n",
        "        with open(\"jaseem.txt\", 'r') as file:\n",
        "            content = file.read()\n",
        "            print(\"File content:\\n\", content)\n",
        "    except FileNotFoundError:\n",
        "        print(\"Error: The file 'jaseem.txt' was not found.\")\n",
        "    except PermissionError:\n",
        "        print(\"Error: You don't have permission to read the file 'jaseem.txt'.\")\n",
        "    except Exception as e:\n",
        "        print(f\"An unexpected error occurred: {e}\")\n",
        "\n",
        "# Call the function\n",
        "open_file()"
      ],
      "metadata": {
        "colab": {
          "base_uri": "https://localhost:8080/"
        },
        "id": "wLGd11SmSthX",
        "outputId": "6e0dd1df-ae8b-4f99-d1b8-886c8bbd4c67"
      },
      "execution_count": null,
      "outputs": [
        {
          "output_type": "stream",
          "name": "stdout",
          "text": [
            "Error: The file 'jaseem.txt' was not found.\n"
          ]
        }
      ]
    },
    {
      "cell_type": "code",
      "source": [
        "# 9. How can you read a file line by line and store its content in a list in Python?\n",
        "\n",
        "\"Ans\"\n"
      ],
      "metadata": {
        "id": "arcPxPQKTJG1"
      },
      "execution_count": null,
      "outputs": []
    }
  ]
}